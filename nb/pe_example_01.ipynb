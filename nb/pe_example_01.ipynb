{
 "cells": [
  {
   "cell_type": "code",
   "execution_count": null,
   "id": "0",
   "metadata": {},
   "outputs": [],
   "source": [
    "%load_ext autoreload\n",
    "%autoreload 2"
   ]
  },
  {
   "cell_type": "code",
   "execution_count": null,
   "id": "1",
   "metadata": {},
   "outputs": [],
   "source": [
    "import torch\n",
    "import httpx\n",
    "from io import BytesIO\n",
    "from PIL import Image\n",
    "import perception_models.core.vision_encoder.pe as pe\n",
    "import perception_models.core.vision_encoder.transforms as transforms"
   ]
  },
  {
   "cell_type": "code",
   "execution_count": null,
   "id": "2",
   "metadata": {},
   "outputs": [],
   "source": [
    "device = \"cuda\" if torch.cuda.is_available() else \"cpu\"\n",
    "print(f\"Using Device: {device}\")"
   ]
  },
  {
   "cell_type": "code",
   "execution_count": null,
   "id": "3",
   "metadata": {},
   "outputs": [],
   "source": [
    "url = \"http://images.cocodataset.org/val2017/000000039769.jpg\"\n",
    "image_bytes = httpx.get(url).content\n",
    "pil_image = Image.open(BytesIO(image_bytes))\n",
    "\n",
    "\n",
    "print(\"CLIP configs:\", pe.CLIP.available_configs())\n",
    "\n",
    "model = pe.CLIP.from_config(\"PE-Core-L14-336\", pretrained=True)  # Downloads from HF\n",
    "model = model.to(device)\n",
    "\n",
    "preprocess = transforms.get_image_transform(model.image_size)\n",
    "tokenizer = transforms.get_text_tokenizer(model.context_length)\n",
    "\n",
    "image = preprocess(pil_image).unsqueeze(0).to(device)\n",
    "text = tokenizer([\"a diagram\", \"a dog\", \"a cat\"]).to(device)\n",
    "\n",
    "with torch.no_grad(), torch.autocast(device):\n",
    "    image_features, text_features, logit_scale = model(image, text)\n",
    "    text_probs = (logit_scale * image_features @ text_features.T).softmax(dim=-1)\n",
    "\n",
    "print(image.shape)\n",
    "print(\"Label probs:\", text_probs)  # prints: [[0.0, 0.0, 1.0]]"
   ]
  },
  {
   "cell_type": "code",
   "execution_count": null,
   "id": "4",
   "metadata": {},
   "outputs": [],
   "source": []
  }
 ],
 "metadata": {
  "kernelspec": {
   "display_name": "perception-models",
   "language": "python",
   "name": "python3"
  },
  "language_info": {
   "codemirror_mode": {
    "name": "ipython",
    "version": 3
   },
   "file_extension": ".py",
   "mimetype": "text/x-python",
   "name": "python",
   "nbconvert_exporter": "python",
   "pygments_lexer": "ipython3",
   "version": "3.13.1"
  }
 },
 "nbformat": 4,
 "nbformat_minor": 5
}
